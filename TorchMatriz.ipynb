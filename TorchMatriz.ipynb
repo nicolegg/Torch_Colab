{
  "nbformat": 4,
  "nbformat_minor": 0,
  "metadata": {
    "colab": {
      "name": "TorchMatriz.ipynb",
      "provenance": [],
      "authorship_tag": "ABX9TyMXDron+4cImHiw/jjBLSHb",
      "include_colab_link": true
    },
    "kernelspec": {
      "name": "python3",
      "display_name": "Python 3"
    },
    "accelerator": "GPU"
  },
  "cells": [
    {
      "cell_type": "markdown",
      "metadata": {
        "id": "view-in-github",
        "colab_type": "text"
      },
      "source": [
        "<a href=\"https://colab.research.google.com/github/nicolegg/Torch_Colab/blob/master/TorchMatriz.ipynb\" target=\"_parent\"><img src=\"https://colab.research.google.com/assets/colab-badge.svg\" alt=\"Open In Colab\"/></a>"
      ]
    },
    {
      "cell_type": "markdown",
      "metadata": {
        "id": "F-m95Xt7arPf",
        "colab_type": "text"
      },
      "source": [
        "operaciones matemáticas básicas con PyTorch. PyTorch es un marco computacional para construir modelos de aprendizaje automático profundo. Aquí, sin embargo, usaremos PyTorch para las matemáticas de la escuela secundaria primero, luego para una tarea de regresión simple y finalmente para limpiar una imagen con objetos periodicos \"atómicos\".\n",
        "\n",
        "Importar PyTorch:"
      ]
    },
    {
      "cell_type": "code",
      "metadata": {
        "id": "SSAy8lOIapCO",
        "colab_type": "code",
        "outputId": "44756270-0232-4afc-ba95-dfd00c9ca2cc",
        "colab": {
          "base_uri": "https://localhost:8080/",
          "height": 34
        }
      },
      "source": [
        "import torch \n",
        "print (\"importado\")"
      ],
      "execution_count": 1,
      "outputs": [
        {
          "output_type": "stream",
          "text": [
            "importado\n"
          ],
          "name": "stdout"
        }
      ]
    },
    {
      "cell_type": "markdown",
      "metadata": {
        "id": "732pA2KGcW98",
        "colab_type": "text"
      },
      "source": [
        "Definir algunos tensonres"
      ]
    },
    {
      "cell_type": "code",
      "metadata": {
        "id": "NMhUBdV-cZ1o",
        "colab_type": "code",
        "outputId": "661d5329-6691-4fcb-abbc-fe9d6b4b9733",
        "colab": {
          "base_uri": "https://localhost:8080/",
          "height": 34
        }
      },
      "source": [
        "# Crear un tensor de 3 x 3 que contenga número aleatorios\n",
        "a = torch.rand(3, 3)\n",
        "# Crear un tensor de 3 x 3 que contenga todos\n",
        "b = torch.ones(3, 3)\n",
        "# Crear un tendos de 3 x 3 de identidad\n",
        "c = torch.eye(3, 3)\n",
        "print (\"Creado\")"
      ],
      "execution_count": 2,
      "outputs": [
        {
          "output_type": "stream",
          "text": [
            "Creado\n"
          ],
          "name": "stdout"
        }
      ]
    },
    {
      "cell_type": "markdown",
      "metadata": {
        "id": "cX5w-rFPdp6C",
        "colab_type": "text"
      },
      "source": [
        "Imprimir los tensores que acabamos de definir"
      ]
    },
    {
      "cell_type": "code",
      "metadata": {
        "id": "T7iBWSnwdwZr",
        "colab_type": "code",
        "outputId": "63354140-ee79-425f-dac1-ff5314459a38",
        "colab": {
          "base_uri": "https://localhost:8080/",
          "height": 170
        }
      },
      "source": [
        "print(a, type(a))\n",
        "print(b, type(b))\n",
        "print(c, type(c))"
      ],
      "execution_count": 3,
      "outputs": [
        {
          "output_type": "stream",
          "text": [
            "tensor([[3.0882e-02, 3.0273e-04, 8.4248e-01],\n",
            "        [2.6393e-01, 2.6371e-01, 1.8379e-01],\n",
            "        [5.8791e-01, 9.9736e-01, 1.3997e-01]]) <class 'torch.Tensor'>\n",
            "tensor([[1., 1., 1.],\n",
            "        [1., 1., 1.],\n",
            "        [1., 1., 1.]]) <class 'torch.Tensor'>\n",
            "tensor([[1., 0., 0.],\n",
            "        [0., 1., 0.],\n",
            "        [0., 0., 1.]]) <class 'torch.Tensor'>\n"
          ],
          "name": "stdout"
        }
      ]
    },
    {
      "cell_type": "markdown",
      "metadata": {
        "id": "vvlM2rgaebFU",
        "colab_type": "text"
      },
      "source": [
        "Restar o sumar:"
      ]
    },
    {
      "cell_type": "code",
      "metadata": {
        "id": "9xaUrfgXeczT",
        "colab_type": "code",
        "colab": {}
      },
      "source": [
        "d = torch.sub(b, a)\n",
        "e = torch.add(b,c)"
      ],
      "execution_count": 0,
      "outputs": []
    },
    {
      "cell_type": "markdown",
      "metadata": {
        "id": "rwTDkfGefG0N",
        "colab_type": "text"
      },
      "source": [
        "Resultados de la suma y resta entre matrices"
      ]
    },
    {
      "cell_type": "code",
      "metadata": {
        "id": "0wDAb1rffJgk",
        "colab_type": "code",
        "outputId": "25c202ea-6ab8-474a-c094-dc1b99d889cf",
        "colab": {
          "base_uri": "https://localhost:8080/",
          "height": 119
        }
      },
      "source": [
        "print(d, type(d))\n",
        "print(e, type(e))"
      ],
      "execution_count": 5,
      "outputs": [
        {
          "output_type": "stream",
          "text": [
            "tensor([[0.9691, 0.9997, 0.1575],\n",
            "        [0.7361, 0.7363, 0.8162],\n",
            "        [0.4121, 0.0026, 0.8600]]) <class 'torch.Tensor'>\n",
            "tensor([[2., 1., 1.],\n",
            "        [1., 2., 1.],\n",
            "        [1., 1., 2.]]) <class 'torch.Tensor'>\n"
          ],
          "name": "stdout"
        }
      ]
    },
    {
      "cell_type": "markdown",
      "metadata": {
        "id": "sh5gyiaV0xZL",
        "colab_type": "text"
      },
      "source": [
        "Es fácil convertir entre la clase de tensor de antorcha y la matriz numpy de Python \"estándar\":"
      ]
    },
    {
      "cell_type": "code",
      "metadata": {
        "id": "-keP86560zPt",
        "colab_type": "code",
        "outputId": "81ed7b10-d400-4f9f-d872-ac9d80906487",
        "colab": {
          "base_uri": "https://localhost:8080/",
          "height": 119
        }
      },
      "source": [
        "e = e.numpy() # tensor de antorcha --> numpy\n",
        "print(e, type(e))\n",
        "e = torch.from_numpy(e) # numpy --> tensor de antorcha\n",
        "print(e, type(e))"
      ],
      "execution_count": 6,
      "outputs": [
        {
          "output_type": "stream",
          "text": [
            "[[2. 1. 1.]\n",
            " [1. 2. 1.]\n",
            " [1. 1. 2.]] <class 'numpy.ndarray'>\n",
            "tensor([[2., 1., 1.],\n",
            "        [1., 2., 1.],\n",
            "        [1., 1., 2.]]) <class 'torch.Tensor'>\n"
          ],
          "name": "stdout"
        }
      ]
    },
    {
      "cell_type": "markdown",
      "metadata": {
        "id": "KoYpFH2PZVJE",
        "colab_type": "text"
      },
      "source": [
        "\n",
        "También podemos concatenar tensores a lo largo del eje especificado, aquí concatenamos dos tensores 2D a lo largo de sus filas (dimensión 0) es decir un contador de la matriz"
      ]
    },
    {
      "cell_type": "code",
      "metadata": {
        "id": "p-VflmGWZXcB",
        "colab_type": "code",
        "colab": {
          "base_uri": "https://localhost:8080/",
          "height": 119
        },
        "outputId": "4f693e02-f37e-4bb8-ecd9-79a40c6d108c"
      },
      "source": [
        "bc = torch.cat((b, c), dim=0)\n",
        "print(bc, bc.size())"
      ],
      "execution_count": 7,
      "outputs": [
        {
          "output_type": "stream",
          "text": [
            "tensor([[1., 1., 1.],\n",
            "        [1., 1., 1.],\n",
            "        [1., 1., 1.],\n",
            "        [1., 0., 0.],\n",
            "        [0., 1., 0.],\n",
            "        [0., 0., 1.]]) torch.Size([6, 3])\n"
          ],
          "name": "stdout"
        }
      ]
    },
    {
      "cell_type": "markdown",
      "metadata": {
        "id": "0Y5S7JV3Z5C4",
        "colab_type": "text"
      },
      "source": [
        "Concatenación a lo largo de columnas (dimensión 1). Observe también que al ejecutar la celda a continuación anularemos la variable bc definida en la celda de arriba. es decir un contador de la matriz"
      ]
    },
    {
      "cell_type": "code",
      "metadata": {
        "id": "50p2V72uZ9LU",
        "colab_type": "code",
        "colab": {
          "base_uri": "https://localhost:8080/",
          "height": 68
        },
        "outputId": "6e8ab28e-8da7-42a8-eb51-231afff89718"
      },
      "source": [
        "bc = torch.cat((b, c), dim=1)\n",
        "print(bc, bc.size())"
      ],
      "execution_count": 8,
      "outputs": [
        {
          "output_type": "stream",
          "text": [
            "tensor([[1., 1., 1., 1., 0., 0.],\n",
            "        [1., 1., 1., 0., 1., 0.],\n",
            "        [1., 1., 1., 0., 0., 1.]]) torch.Size([3, 6])\n"
          ],
          "name": "stdout"
        }
      ]
    },
    {
      "cell_type": "markdown",
      "metadata": {
        "id": "9NMacfi7a_ga",
        "colab_type": "text"
      },
      "source": [
        "\n",
        "Una de las principales ventajas de usar los tensores de pytorch es que puede transferirlos al dispositivo GPU para cálculos más rápidos que involucran operaciones de tensor (que no puede hacer para una matriz numpy normal). Podemos ver varios dispositivos GPU disponibles ejecutando una celda a continuación (puede activar / desactivar el soporte de GPU en Tiempo de ejecución -> Cambiar tipo de tiempo de ejecución)."
      ]
    },
    {
      "cell_type": "code",
      "metadata": {
        "id": "9RkdQbaRbHZp",
        "colab_type": "code",
        "colab": {
          "base_uri": "https://localhost:8080/",
          "height": 34
        },
        "outputId": "017369b8-e5d5-4a72-d92a-7352bb0c03d9"
      },
      "source": [
        "torch.cuda.device_count()"
      ],
      "execution_count": 9,
      "outputs": [
        {
          "output_type": "execute_result",
          "data": {
            "text/plain": [
              "1"
            ]
          },
          "metadata": {
            "tags": []
          },
          "execution_count": 9
        }
      ]
    },
    {
      "cell_type": "markdown",
      "metadata": {
        "id": "MhmBghTKcPQk",
        "colab_type": "text"
      },
      "source": [
        "También podemos obtener un nombre de GPU que esté disponible (Colab proporciona los aceleradores de GPU Tesla K80 vs Tesla T4):"
      ]
    },
    {
      "cell_type": "code",
      "metadata": {
        "id": "2_iQP1xMcQ9G",
        "colab_type": "code",
        "colab": {
          "base_uri": "https://localhost:8080/",
          "height": 34
        },
        "outputId": "8477e587-4b99-47cf-8c6e-958c966c73d8"
      },
      "source": [
        "torch.cuda.get_device_name(0)"
      ],
      "execution_count": 10,
      "outputs": [
        {
          "output_type": "execute_result",
          "data": {
            "text/plain": [
              "'Tesla K80'"
            ]
          },
          "metadata": {
            "tags": []
          },
          "execution_count": 10
        }
      ]
    },
    {
      "cell_type": "markdown",
      "metadata": {
        "id": "s_dwY3Zycoyy",
        "colab_type": "text"
      },
      "source": [
        "Aquí transferimos nuestro tensor concatenado a un dispositivo GPU:"
      ]
    },
    {
      "cell_type": "code",
      "metadata": {
        "id": "YGX0QIfLcq0p",
        "colab_type": "code",
        "colab": {
          "base_uri": "https://localhost:8080/",
          "height": 68
        },
        "outputId": "8f68dcec-01af-4be7-d05c-938e4a8fb406"
      },
      "source": [
        "bc = bc.cuda()\n",
        "print(bc)"
      ],
      "execution_count": 11,
      "outputs": [
        {
          "output_type": "stream",
          "text": [
            "tensor([[1., 1., 1., 1., 0., 0.],\n",
            "        [1., 1., 1., 0., 1., 0.],\n",
            "        [1., 1., 1., 0., 0., 1.]], device='cuda:0')\n"
          ],
          "name": "stdout"
        }
      ]
    },
    {
      "cell_type": "markdown",
      "metadata": {
        "id": "sU4eEUGzdqQw",
        "colab_type": "text"
      },
      "source": [
        "\n",
        "Confirme que el tensor está \"sentado\" en el dispositivo GPU:"
      ]
    },
    {
      "cell_type": "code",
      "metadata": {
        "id": "so9AsEg_dyDX",
        "colab_type": "code",
        "colab": {
          "base_uri": "https://localhost:8080/",
          "height": 34
        },
        "outputId": "04105e32-6985-4948-c4f7-d5fa651bd28a"
      },
      "source": [
        "bc.is_cuda"
      ],
      "execution_count": 12,
      "outputs": [
        {
          "output_type": "execute_result",
          "data": {
            "text/plain": [
              "True"
            ]
          },
          "metadata": {
            "tags": []
          },
          "execution_count": 12
        }
      ]
    },
    {
      "cell_type": "markdown",
      "metadata": {
        "id": "2BwRBBA9d9wI",
        "colab_type": "text"
      },
      "source": [
        "\n",
        "Ahora transfiéralo de nuevo a la CPU:"
      ]
    },
    {
      "cell_type": "code",
      "metadata": {
        "id": "PvX8txnLd_KA",
        "colab_type": "code",
        "colab": {
          "base_uri": "https://localhost:8080/",
          "height": 68
        },
        "outputId": "46522c6b-b1b5-4477-f395-932d39e8e80c"
      },
      "source": [
        "bc = bc.cpu()\n",
        "print(bc)"
      ],
      "execution_count": 13,
      "outputs": [
        {
          "output_type": "stream",
          "text": [
            "tensor([[1., 1., 1., 1., 0., 0.],\n",
            "        [1., 1., 1., 0., 1., 0.],\n",
            "        [1., 1., 1., 0., 0., 1.]])\n"
          ],
          "name": "stdout"
        }
      ]
    },
    {
      "cell_type": "markdown",
      "metadata": {
        "id": "7HASeabXePmI",
        "colab_type": "text"
      },
      "source": [
        "\n",
        "Confirme que ya no está en el dispositivo GPU:"
      ]
    },
    {
      "cell_type": "code",
      "metadata": {
        "id": "fZl8EChbeQ3d",
        "colab_type": "code",
        "colab": {
          "base_uri": "https://localhost:8080/",
          "height": 34
        },
        "outputId": "93037c7f-c154-4f76-dd0d-00ce3a826fe4"
      },
      "source": [
        "bc.is_cuda"
      ],
      "execution_count": 14,
      "outputs": [
        {
          "output_type": "execute_result",
          "data": {
            "text/plain": [
              "False"
            ]
          },
          "metadata": {
            "tags": []
          },
          "execution_count": 14
        }
      ]
    },
    {
      "cell_type": "markdown",
      "metadata": {
        "id": "a6w_yN8WekVx",
        "colab_type": "text"
      },
      "source": [
        "\n",
        "Usaremos esta operación simple para transferir un modelo de red neuronal y datos de entrenamiento entre CPU y GPU en la siguiente sección."
      ]
    },
    {
      "cell_type": "markdown",
      "metadata": {
        "id": "DnPcy9EPe_kK",
        "colab_type": "text"
      },
      "source": [
        "Pequeña advertencia: nuestras matrices numpy tienen un número de coma flotante de 64 bits de forma predeterminada, que se convierte en DoubleTensor cuando se llama a `torch.from_numpy ()`. Sin embargo, al entrenar nuestro modelo, nuestros pesos serán FloatTensor (coma flotante de 32 bits) de forma predeterminada. Este desajuste causará un error. La solución más fácil es lanzar un DoubleTensor a FloatTensor simplemente llamando a .`float ()`, es decir, `bc = torch.from_numpy (bc) .float ().`"
      ]
    },
    {
      "cell_type": "markdown",
      "metadata": {
        "id": "1POXxPZVfPTY",
        "colab_type": "text"
      },
      "source": [
        "\n",
        "**Regresión simple con PyTorch**"
      ]
    },
    {
      "cell_type": "markdown",
      "metadata": {
        "id": "YkOxnUSnfdis",
        "colab_type": "text"
      },
      "source": [
        "\n",
        "Las redes neuronales son aproximadores de función universal. Para ilustrarlo aquí, generaremos puntos de datos usando una función *sin*, dañaremos los datos producidos por ruido aleatorio y luego \"ajustaremos\" la distribución objetivo con una red neuronal. Los datos se generarán con PyTorch en lugar del módulo numpy (pero observe muchas similitudes):"
      ]
    },
    {
      "cell_type": "code",
      "metadata": {
        "id": "T4LYrwgulias",
        "colab_type": "code",
        "colab": {
          "base_uri": "https://localhost:8080/",
          "height": 870
        },
        "outputId": "6ac5eb35-683e-44f7-dcfd-871505fea5f7"
      },
      "source": [
        "!pip install matplotlib==1.3.1"
      ],
      "execution_count": 15,
      "outputs": [
        {
          "output_type": "stream",
          "text": [
            "Collecting matplotlib==1.3.1\n",
            "  Using cached https://files.pythonhosted.org/packages/d4/d0/17f17792a4d50994397052220dbe3ac9850ecbde0297b7572933fa4a5c98/matplotlib-1.3.1.tar.gz\n",
            "Requirement already satisfied: numpy>=1.5 in /usr/local/lib/python3.6/dist-packages (from matplotlib==1.3.1) (1.18.3)\n",
            "Requirement already satisfied: python-dateutil in /usr/local/lib/python3.6/dist-packages (from matplotlib==1.3.1) (2.8.1)\n",
            "Requirement already satisfied: tornado in /usr/local/lib/python3.6/dist-packages (from matplotlib==1.3.1) (4.5.3)\n",
            "Requirement already satisfied: pyparsing>=1.5.6 in /usr/local/lib/python3.6/dist-packages (from matplotlib==1.3.1) (2.4.7)\n",
            "Requirement already satisfied: nose in /usr/local/lib/python3.6/dist-packages (from matplotlib==1.3.1) (1.3.7)\n",
            "Requirement already satisfied: six>=1.5 in /usr/local/lib/python3.6/dist-packages (from python-dateutil->matplotlib==1.3.1) (1.12.0)\n",
            "Building wheels for collected packages: matplotlib\n",
            "  Building wheel for matplotlib (setup.py) ... \u001b[?25lerror\n",
            "\u001b[31m  ERROR: Failed building wheel for matplotlib\u001b[0m\n",
            "\u001b[?25h  Running setup.py clean for matplotlib\n",
            "Failed to build matplotlib\n",
            "\u001b[31mERROR: yellowbrick 0.9.1 has requirement matplotlib!=3.0.0,>=1.5.1, but you'll have matplotlib 1.3.1 which is incompatible.\u001b[0m\n",
            "\u001b[31mERROR: seaborn 0.10.0 has requirement matplotlib>=2.1.2, but you'll have matplotlib 1.3.1 which is incompatible.\u001b[0m\n",
            "\u001b[31mERROR: scikit-image 0.16.2 has requirement matplotlib!=3.0.0,>=2.0.0, but you'll have matplotlib 1.3.1 which is incompatible.\u001b[0m\n",
            "\u001b[31mERROR: plotnine 0.6.0 has requirement matplotlib>=3.1.1, but you'll have matplotlib 1.3.1 which is incompatible.\u001b[0m\n",
            "\u001b[31mERROR: pandas-profiling 1.4.1 has requirement matplotlib>=1.4, but you'll have matplotlib 1.3.1 which is incompatible.\u001b[0m\n",
            "\u001b[31mERROR: mlxtend 0.14.0 has requirement matplotlib>=1.5.1, but you'll have matplotlib 1.3.1 which is incompatible.\u001b[0m\n",
            "\u001b[31mERROR: mizani 0.6.0 has requirement matplotlib>=3.1.1, but you'll have matplotlib 1.3.1 which is incompatible.\u001b[0m\n",
            "\u001b[31mERROR: fbprophet 0.6 has requirement matplotlib>=2.0.0, but you'll have matplotlib 1.3.1 which is incompatible.\u001b[0m\n",
            "\u001b[31mERROR: albumentations 0.1.12 has requirement imgaug<0.2.7,>=0.2.5, but you'll have imgaug 0.2.9 which is incompatible.\u001b[0m\n",
            "Installing collected packages: matplotlib\n",
            "  Found existing installation: matplotlib 3.2.1\n",
            "    Uninstalling matplotlib-3.2.1:\n",
            "      Successfully uninstalled matplotlib-3.2.1\n",
            "    Running setup.py install for matplotlib ... \u001b[?25l\u001b[?25herror\n",
            "  Rolling back uninstall of matplotlib\n",
            "  Moving to /usr/local/lib/python3.6/dist-packages/__pycache__/pylab.cpython-36.pyc\n",
            "   from /tmp/pip-uninstall-c5evngh_/pylab.cpython-36.pyc\n",
            "  Moving to /usr/local/lib/python3.6/dist-packages/matplotlib-3.2.1-py3.6-nspkg.pth\n",
            "   from /tmp/pip-uninstall-skoan6p4/matplotlib-3.2.1-py3.6-nspkg.pth\n",
            "  Moving to /usr/local/lib/python3.6/dist-packages/matplotlib-3.2.1.dist-info/\n",
            "   from /usr/local/lib/python3.6/dist-packages/~atplotlib-3.2.1.dist-info\n",
            "  Moving to /usr/local/lib/python3.6/dist-packages/matplotlib/\n",
            "   from /usr/local/lib/python3.6/dist-packages/~atplotlib\n",
            "  Moving to /usr/local/lib/python3.6/dist-packages/mpl_toolkits/axes_grid/\n",
            "   from /usr/local/lib/python3.6/dist-packages/mpl_toolkits/~xes_grid\n",
            "  Moving to /usr/local/lib/python3.6/dist-packages/mpl_toolkits/axes_grid1/\n",
            "   from /usr/local/lib/python3.6/dist-packages/mpl_toolkits/~xes_grid1\n",
            "  Moving to /usr/local/lib/python3.6/dist-packages/mpl_toolkits/axisartist/\n",
            "   from /usr/local/lib/python3.6/dist-packages/mpl_toolkits/~xisartist\n",
            "  Moving to /usr/local/lib/python3.6/dist-packages/mpl_toolkits/mplot3d/\n",
            "   from /usr/local/lib/python3.6/dist-packages/mpl_toolkits/~plot3d\n",
            "  Moving to /usr/local/lib/python3.6/dist-packages/mpl_toolkits/tests/\n",
            "   from /usr/local/lib/python3.6/dist-packages/mpl_toolkits/~ests\n",
            "  Moving to /usr/local/lib/python3.6/dist-packages/pylab.py\n",
            "   from /tmp/pip-uninstall-skoan6p4/pylab.py\n",
            "\u001b[31mERROR: Command errored out with exit status 1: /usr/bin/python3 -u -c 'import sys, setuptools, tokenize; sys.argv[0] = '\"'\"'/tmp/pip-install-ebbvhz83/matplotlib/setup.py'\"'\"'; __file__='\"'\"'/tmp/pip-install-ebbvhz83/matplotlib/setup.py'\"'\"';f=getattr(tokenize, '\"'\"'open'\"'\"', open)(__file__);code=f.read().replace('\"'\"'\\r\\n'\"'\"', '\"'\"'\\n'\"'\"');f.close();exec(compile(code, __file__, '\"'\"'exec'\"'\"'))' install --record /tmp/pip-record-1bnekkq5/install-record.txt --single-version-externally-managed --compile Check the logs for full command output.\u001b[0m\n"
          ],
          "name": "stdout"
        }
      ]
    },
    {
      "cell_type": "code",
      "metadata": {
        "id": "LZqIL66pf5P9",
        "colab_type": "code",
        "colab": {
          "base_uri": "https://localhost:8080/",
          "height": 34
        },
        "outputId": "06ecdada-4362-4628-8be7-c14a785f5d56"
      },
      "source": [
        "torch.manual_seed(42)\n",
        "x = torch.unsqueeze(torch.arange(-10, 10, 0.01), dim=1)\n",
        "y = torch.sin(x) + 0.2*torch.randn(x.size())\n",
        "print(\"ready\")"
      ],
      "execution_count": 16,
      "outputs": [
        {
          "output_type": "stream",
          "text": [
            "ready\n"
          ],
          "name": "stdout"
        }
      ]
    },
    {
      "cell_type": "markdown",
      "metadata": {
        "id": "Da9rAKwMgYuo",
        "colab_type": "text"
      },
      "source": [
        "\n",
        "Trace los datos generados:"
      ]
    },
    {
      "cell_type": "code",
      "metadata": {
        "id": "_6PYtYiMh7R2",
        "colab_type": "code",
        "colab": {
          "base_uri": "https://localhost:8080/",
          "height": 34
        },
        "outputId": "fbc9a3fe-6f6e-4438-f803-2e630e0c020a"
      },
      "source": [
        "from matplotlib import pyplot as plt\n",
        "print(\"importado\")"
      ],
      "execution_count": 17,
      "outputs": [
        {
          "output_type": "stream",
          "text": [
            "importado\n"
          ],
          "name": "stdout"
        }
      ]
    },
    {
      "cell_type": "code",
      "metadata": {
        "id": "y57U5PtMgcug",
        "colab_type": "code",
        "colab": {
          "base_uri": "https://localhost:8080/",
          "height": 355
        },
        "outputId": "865f59d1-f713-4bf0-8ccb-d1631477738a"
      },
      "source": [
        "_, ax = plt.subplots(1, 1, figsize=(8, 5))\n",
        "ax.scatter(x, y, s=3)\n",
        "ax.set_xlabel('x', fontsize=14, style='italic')\n",
        "ax.set_ylabel('y', fontsize=14, style='italic')"
      ],
      "execution_count": 18,
      "outputs": [
        {
          "output_type": "execute_result",
          "data": {
            "text/plain": [
              "Text(0, 0.5, 'y')"
            ]
          },
          "metadata": {
            "tags": []
          },
          "execution_count": 18
        },
        {
          "output_type": "display_data",
          "data": {
            "image/png": "[encoded data removed]",
            "text/plain": [
              "<Figure size 576x360 with 1 Axes>"
            ]
          },
          "metadata": {
            "tags": [],
            "needs_background": "light"
          }
        }
      ]
    },
    {
      "cell_type": "markdown",
      "metadata": {
        "id": "xPicuYZ7n4y0",
        "colab_type": "text"
      },
      "source": [
        "\n",
        "Ahora construimos una red neuronal simple para adaptarse a la distribución de datos. Nuestra red neuronal tiene solo dos capas completamente conectadas, cada una con 100 neuronas, activadas por la función de unidad lineal rectificada con fugas. Luego especificamos parámetros para el entrenamiento del modelo (optimizador de pesas y función / criterio de pérdida) y lo trasladamos al dispositivo GPU para cálculos más rápidos."
      ]
    },
    {
      "cell_type": "markdown",
      "metadata": {
        "id": "9WOr6Js6oHTR",
        "colab_type": "text"
      },
      "source": [
        "Construir un modelo:"
      ]
    },
    {
      "cell_type": "code",
      "metadata": {
        "id": "AcjRc3aEoH5i",
        "colab_type": "code",
        "colab": {
          "base_uri": "https://localhost:8080/",
          "height": 34
        },
        "outputId": "865fc051-0a74-44ae-ffc1-7b3db68f2ea8"
      },
      "source": [
        "#Contruyendo el modelo\n",
        "model = torch.nn.Sequential(\n",
        "    torch.nn.Linear(in_features=1, out_features=100),\n",
        "    torch.nn.LeakyReLU(),\n",
        "    torch.nn.Linear(in_features=100, out_features=100),\n",
        "    torch.nn.LeakyReLU(),\n",
        "    torch.nn.Linear(in_features=100, out_features=1),\n",
        ")\n",
        "print(\"construido C:\")"
      ],
      "execution_count": 19,
      "outputs": [
        {
          "output_type": "stream",
          "text": [
            "construido C:\n"
          ],
          "name": "stdout"
        }
      ]
    },
    {
      "cell_type": "markdown",
      "metadata": {
        "id": "dgBazGjVpA8G",
        "colab_type": "text"
      },
      "source": [
        "\n",
        "Mueva nuestro modelo junto con los datos de entrenamiento al dispositivo GPU"
      ]
    },
    {
      "cell_type": "code",
      "metadata": {
        "id": "ySAoAmbMpCDT",
        "colab_type": "code",
        "colab": {
          "base_uri": "https://localhost:8080/",
          "height": 34
        },
        "outputId": "1b04b0d4-3a96-414f-ac57-103455696c74"
      },
      "source": [
        "model.cuda()\n",
        "x = x.cuda()\n",
        "y = y.cuda()\n",
        "print(\"listo\")"
      ],
      "execution_count": 20,
      "outputs": [
        {
          "output_type": "stream",
          "text": [
            "listo\n"
          ],
          "name": "stdout"
        }
      ]
    },
    {
      "cell_type": "markdown",
      "metadata": {
        "id": "neow4ChjpXwR",
        "colab_type": "text"
      },
      "source": [
        "Especifique el optimizador y la función de pérdida para el entrenamiento de redes neuronales:"
      ]
    },
    {
      "cell_type": "code",
      "metadata": {
        "id": "Ca_gfAHrpZPW",
        "colab_type": "code",
        "colab": {
          "base_uri": "https://localhost:8080/",
          "height": 34
        },
        "outputId": "c5a835c8-d36d-463a-ee1e-4cf0c6adcc8a"
      },
      "source": [
        "optimizador = torch.optim.SGD(model.parameters(), lr=1e-3, momentum=0.9) # stochastic gradient descent\n",
        "criterio = torch.nn.MSELoss() # mean-squared loss\n",
        "print(\"hds\")"
      ],
      "execution_count": 28,
      "outputs": [
        {
          "output_type": "stream",
          "text": [
            "hds\n"
          ],
          "name": "stdout"
        }
      ]
    },
    {
      "cell_type": "markdown",
      "metadata": {
        "id": "XmvPnoFxsJMR",
        "colab_type": "text"
      },
      "source": [
        "Finalmente, entrenamos nuestro modelo simple:\n",
        "\n",
        "(esto no debería tomar más de un minuto)"
      ]
    },
    {
      "cell_type": "code",
      "metadata": {
        "id": "6Av-6J4tsLN5",
        "colab_type": "code",
        "colab": {
          "base_uri": "https://localhost:8080/",
          "height": 1000
        },
        "outputId": "21dacee3-56bc-4ed1-c0f2-f663664e9245"
      },
      "source": [
        "EPOCHS = 20000\n",
        "for e in range(EPOCHS):\n",
        "  #Gradientes claras\n",
        "  optimizador.zero_grad()\n",
        "  # propagar la variable x a través de una red y obtener la predicción del modelo\n",
        "  y_predicted = model(x)\n",
        "  # compare el valor pronosticado con el valor verdadero y calcule el error cuadrático medio\n",
        "  loss = criterio(y_predicted, y)\n",
        "  # hacer retropropagación para calcular gradientes\n",
        "  loss.backward()\n",
        "  # optimizar pesos\n",
        "  optimizador.step()\n",
        "  # imprimir estadísticas\n",
        "  if e % 100 == 0:\n",
        "    print('Epoch: {}  Loss: {}'.format(e, loss.item()))"
      ],
      "execution_count": 29,
      "outputs": [
        {
          "output_type": "stream",
          "text": [
            "Epoch: 0  Loss: 0.038709186017513275\n",
            "Epoch: 100  Loss: 0.0387083925306797\n",
            "Epoch: 200  Loss: 0.03870745375752449\n",
            "Epoch: 300  Loss: 0.03870666027069092\n",
            "Epoch: 400  Loss: 0.038705822080373764\n",
            "Epoch: 500  Loss: 0.03870502486824989\n",
            "Epoch: 600  Loss: 0.038704220205545425\n",
            "Epoch: 700  Loss: 0.03870338946580887\n",
            "Epoch: 800  Loss: 0.038702525198459625\n",
            "Epoch: 900  Loss: 0.03870173543691635\n",
            "Epoch: 1000  Loss: 0.03870099037885666\n",
            "Epoch: 1100  Loss: 0.038700275123119354\n",
            "Epoch: 1200  Loss: 0.03869951143860817\n",
            "Epoch: 1300  Loss: 0.038698844611644745\n",
            "Epoch: 1400  Loss: 0.038698241114616394\n",
            "Epoch: 1500  Loss: 0.038697533309459686\n",
            "Epoch: 1600  Loss: 0.03869693726301193\n",
            "Epoch: 1700  Loss: 0.03869631141424179\n",
            "Epoch: 1800  Loss: 0.03869573399424553\n",
            "Epoch: 1900  Loss: 0.03869514539837837\n",
            "Epoch: 2000  Loss: 0.038694605231285095\n",
            "Epoch: 2100  Loss: 0.038694314658641815\n",
            "Epoch: 2200  Loss: 0.038693808019161224\n",
            "Epoch: 2300  Loss: 0.03869335353374481\n",
            "Epoch: 2400  Loss: 0.038692813366651535\n",
            "Epoch: 2500  Loss: 0.038692377507686615\n",
            "Epoch: 2600  Loss: 0.038691915571689606\n",
            "Epoch: 2700  Loss: 0.03869156166911125\n",
            "Epoch: 2800  Loss: 0.03869110345840454\n",
            "Epoch: 2900  Loss: 0.038690757006406784\n",
            "Epoch: 3000  Loss: 0.038690317422151566\n",
            "Epoch: 3100  Loss: 0.03868986666202545\n",
            "Epoch: 3200  Loss: 0.0386895015835762\n",
            "Epoch: 3300  Loss: 0.03868908807635307\n",
            "Epoch: 3400  Loss: 0.03868879750370979\n",
            "Epoch: 3500  Loss: 0.03868832811713219\n",
            "Epoch: 3600  Loss: 0.03868788480758667\n",
            "Epoch: 3700  Loss: 0.03868754208087921\n",
            "Epoch: 3800  Loss: 0.03868720307946205\n",
            "Epoch: 3900  Loss: 0.038686737418174744\n",
            "Epoch: 4000  Loss: 0.03868645057082176\n",
            "Epoch: 4100  Loss: 0.03868603706359863\n",
            "Epoch: 4200  Loss: 0.03868561610579491\n",
            "Epoch: 4300  Loss: 0.038685377687215805\n",
            "Epoch: 4400  Loss: 0.03868503123521805\n",
            "Epoch: 4500  Loss: 0.03868455812335014\n",
            "Epoch: 4600  Loss: 0.03868418186903\n",
            "Epoch: 4700  Loss: 0.03868383541703224\n",
            "Epoch: 4800  Loss: 0.03868342190980911\n",
            "Epoch: 4900  Loss: 0.03868328779935837\n",
            "Epoch: 5000  Loss: 0.03868282958865166\n",
            "Epoch: 5100  Loss: 0.038682419806718826\n",
            "Epoch: 5200  Loss: 0.03868207708001137\n",
            "Epoch: 5300  Loss: 0.038681816309690475\n",
            "Epoch: 5400  Loss: 0.038681454956531525\n",
            "Epoch: 5500  Loss: 0.03868110850453377\n",
            "Epoch: 5600  Loss: 0.03868071734905243\n",
            "Epoch: 5700  Loss: 0.038680415600538254\n",
            "Epoch: 5800  Loss: 0.03868013992905617\n",
            "Epoch: 5900  Loss: 0.038679733872413635\n",
            "Epoch: 6000  Loss: 0.03867943584918976\n",
            "Epoch: 6100  Loss: 0.03867921605706215\n",
            "Epoch: 6200  Loss: 0.03867887333035469\n",
            "Epoch: 6300  Loss: 0.038678400218486786\n",
            "Epoch: 6400  Loss: 0.03867818042635918\n",
            "Epoch: 6500  Loss: 0.03867782652378082\n",
            "Epoch: 6600  Loss: 0.03867745399475098\n",
            "Epoch: 6700  Loss: 0.038677118718624115\n",
            "Epoch: 6800  Loss: 0.03867679834365845\n",
            "Epoch: 6900  Loss: 0.03867663815617561\n",
            "Epoch: 7000  Loss: 0.038676172494888306\n",
            "Epoch: 7100  Loss: 0.038675952702760696\n",
            "Epoch: 7200  Loss: 0.038675591349601746\n",
            "Epoch: 7300  Loss: 0.038675278425216675\n",
            "Epoch: 7400  Loss: 0.038674965500831604\n",
            "Epoch: 7500  Loss: 0.03867461532354355\n",
            "Epoch: 7600  Loss: 0.03867454454302788\n",
            "Epoch: 7700  Loss: 0.038674067705869675\n",
            "Epoch: 7800  Loss: 0.038673706352710724\n",
            "Epoch: 7900  Loss: 0.03867350146174431\n",
            "Epoch: 8000  Loss: 0.03867325931787491\n",
            "Epoch: 8100  Loss: 0.03867282345890999\n",
            "Epoch: 8200  Loss: 0.03867263346910477\n",
            "Epoch: 8300  Loss: 0.03867223113775253\n",
            "Epoch: 8400  Loss: 0.03867201507091522\n",
            "Epoch: 8500  Loss: 0.038671717047691345\n",
            "Epoch: 8600  Loss: 0.03867135941982269\n",
            "Epoch: 8700  Loss: 0.038671206682920456\n",
            "Epoch: 8800  Loss: 0.03867088630795479\n",
            "Epoch: 8900  Loss: 0.038670629262924194\n",
            "Epoch: 9000  Loss: 0.03867032751441002\n",
            "Epoch: 9100  Loss: 0.03867011144757271\n",
            "Epoch: 9200  Loss: 0.03866972401738167\n",
            "Epoch: 9300  Loss: 0.03866952657699585\n",
            "Epoch: 9400  Loss: 0.03866925835609436\n",
            "Epoch: 9500  Loss: 0.03866898640990257\n",
            "Epoch: 9600  Loss: 0.0386686846613884\n",
            "Epoch: 9700  Loss: 0.03866845741868019\n",
            "Epoch: 9800  Loss: 0.0386681966483593\n",
            "Epoch: 9900  Loss: 0.03866793215274811\n",
            "Epoch: 10000  Loss: 0.038667626678943634\n",
            "Epoch: 10100  Loss: 0.038667358458042145\n",
            "Epoch: 10200  Loss: 0.0386672168970108\n",
            "Epoch: 10300  Loss: 0.03866693750023842\n",
            "Epoch: 10400  Loss: 0.03866669535636902\n",
            "Epoch: 10500  Loss: 0.03866647556424141\n",
            "Epoch: 10600  Loss: 0.03866610676050186\n",
            "Epoch: 10700  Loss: 0.03866589441895485\n",
            "Epoch: 10800  Loss: 0.03866559639573097\n",
            "Epoch: 10900  Loss: 0.03866533562541008\n",
            "Epoch: 11000  Loss: 0.03866506740450859\n",
            "Epoch: 11100  Loss: 0.03866487368941307\n",
            "Epoch: 11200  Loss: 0.038664646446704865\n",
            "Epoch: 11300  Loss: 0.03866442292928696\n",
            "Epoch: 11400  Loss: 0.03866412863135338\n",
            "Epoch: 11500  Loss: 0.038663897663354874\n",
            "Epoch: 11600  Loss: 0.038663651794195175\n",
            "Epoch: 11700  Loss: 0.03866347670555115\n",
            "Epoch: 11800  Loss: 0.038663193583488464\n",
            "Epoch: 11900  Loss: 0.03866298869252205\n",
            "Epoch: 12000  Loss: 0.038662705570459366\n",
            "Epoch: 12100  Loss: 0.03866250067949295\n",
            "Epoch: 12200  Loss: 0.03866224363446236\n",
            "Epoch: 12300  Loss: 0.038662027567625046\n",
            "Epoch: 12400  Loss: 0.038661811500787735\n",
            "Epoch: 12500  Loss: 0.038661543279886246\n",
            "Epoch: 12600  Loss: 0.038661349564790726\n",
            "Epoch: 12700  Loss: 0.03866120055317879\n",
            "Epoch: 12800  Loss: 0.038660891354084015\n",
            "Epoch: 12900  Loss: 0.03866063058376312\n",
            "Epoch: 13000  Loss: 0.03866041824221611\n",
            "Epoch: 13100  Loss: 0.03866022080183029\n",
            "Epoch: 13200  Loss: 0.03865998610854149\n",
            "Epoch: 13300  Loss: 0.038659755140542984\n",
            "Epoch: 13400  Loss: 0.03865952789783478\n",
            "Epoch: 13500  Loss: 0.03865931183099747\n",
            "Epoch: 13600  Loss: 0.03865911811590195\n",
            "Epoch: 13700  Loss: 0.03865887224674225\n",
            "Epoch: 13800  Loss: 0.03865864500403404\n",
            "Epoch: 13900  Loss: 0.038658447563648224\n",
            "Epoch: 14000  Loss: 0.03865823522210121\n",
            "Epoch: 14100  Loss: 0.038658011704683304\n",
            "Epoch: 14200  Loss: 0.038657817989587784\n",
            "Epoch: 14300  Loss: 0.03865763172507286\n",
            "Epoch: 14400  Loss: 0.03865738958120346\n",
            "Epoch: 14500  Loss: 0.03865712881088257\n",
            "Epoch: 14600  Loss: 0.03865688666701317\n",
            "Epoch: 14700  Loss: 0.03865669295191765\n",
            "Epoch: 14800  Loss: 0.03865647315979004\n",
            "Epoch: 14900  Loss: 0.03865625336766243\n",
            "Epoch: 15000  Loss: 0.03865606337785721\n",
            "Epoch: 15100  Loss: 0.03865585848689079\n",
            "Epoch: 15200  Loss: 0.03865567222237587\n",
            "Epoch: 15300  Loss: 0.03865545615553856\n",
            "Epoch: 15400  Loss: 0.03865526616573334\n",
            "Epoch: 15500  Loss: 0.03865498676896095\n",
            "Epoch: 15600  Loss: 0.03865481913089752\n",
            "Epoch: 15700  Loss: 0.038654621690511703\n",
            "Epoch: 15800  Loss: 0.03865441307425499\n",
            "Epoch: 15900  Loss: 0.0386541374027729\n",
            "Epoch: 16000  Loss: 0.03865401819348335\n",
            "Epoch: 16100  Loss: 0.03865380585193634\n",
            "Epoch: 16200  Loss: 0.03865355998277664\n",
            "Epoch: 16300  Loss: 0.038653332740068436\n",
            "Epoch: 16400  Loss: 0.03865312784910202\n",
            "Epoch: 16500  Loss: 0.03865298628807068\n",
            "Epoch: 16600  Loss: 0.038652725517749786\n",
            "Epoch: 16700  Loss: 0.038652535527944565\n",
            "Epoch: 16800  Loss: 0.038652338087558746\n",
            "Epoch: 16900  Loss: 0.038652148097753525\n",
            "Epoch: 17000  Loss: 0.03865192458033562\n",
            "Epoch: 17100  Loss: 0.03865177184343338\n",
            "Epoch: 17200  Loss: 0.03865154832601547\n",
            "Epoch: 17300  Loss: 0.038651324808597565\n",
            "Epoch: 17400  Loss: 0.03865114599466324\n",
            "Epoch: 17500  Loss: 0.038650915026664734\n",
            "Epoch: 17600  Loss: 0.03865071386098862\n",
            "Epoch: 17700  Loss: 0.0386505126953125\n",
            "Epoch: 17800  Loss: 0.03865034878253937\n",
            "Epoch: 17900  Loss: 0.03865012526512146\n",
            "Epoch: 18000  Loss: 0.03864995017647743\n",
            "Epoch: 18100  Loss: 0.038649749010801315\n",
            "Epoch: 18200  Loss: 0.03864951804280281\n",
            "Epoch: 18300  Loss: 0.038649383932352066\n",
            "Epoch: 18400  Loss: 0.03864916414022446\n",
            "Epoch: 18500  Loss: 0.03864897042512894\n",
            "Epoch: 18600  Loss: 0.03864875063300133\n",
            "Epoch: 18700  Loss: 0.038648571819067\n",
            "Epoch: 18800  Loss: 0.03864835202693939\n",
            "Epoch: 18900  Loss: 0.03864818811416626\n",
            "Epoch: 19000  Loss: 0.03864797577261925\n",
            "Epoch: 19100  Loss: 0.03864778205752373\n",
            "Epoch: 19200  Loss: 0.038647573441267014\n",
            "Epoch: 19300  Loss: 0.03864740952849388\n",
            "Epoch: 19400  Loss: 0.038647182285785675\n",
            "Epoch: 19500  Loss: 0.03864705190062523\n",
            "Epoch: 19600  Loss: 0.038646843284368515\n",
            "Epoch: 19700  Loss: 0.038646601140499115\n",
            "Epoch: 19800  Loss: 0.038646407425403595\n",
            "Epoch: 19900  Loss: 0.03864624351263046\n"
          ],
          "name": "stdout"
        }
      ]
    },
    {
      "cell_type": "markdown",
      "metadata": {
        "id": "O-tGzUYevck9",
        "colab_type": "text"
      },
      "source": [
        "Transfiera los datos nuevamente a la CPU y conviértalos en numpy para trazar:"
      ]
    },
    {
      "cell_type": "code",
      "metadata": {
        "id": "VSx-JY4uveka",
        "colab_type": "code",
        "colab": {
          "base_uri": "https://localhost:8080/",
          "height": 34
        },
        "outputId": "7084dfd5-c867-4faf-be04-8a9299690944"
      },
      "source": [
        "x_to_plot = x.cpu().numpy()\n",
        "y_to_plot = y.cpu().numpy()\n",
        "y_predicted_to_plot = y_predicted.cpu().data.numpy()\n",
        "print(\"transferido\")"
      ],
      "execution_count": 30,
      "outputs": [
        {
          "output_type": "stream",
          "text": [
            "transferido\n"
          ],
          "name": "stdout"
        }
      ]
    },
    {
      "cell_type": "markdown",
      "metadata": {
        "id": "auTRYrAOv4wM",
        "colab_type": "text"
      },
      "source": [
        "\n",
        "Resultados de la trama:"
      ]
    },
    {
      "cell_type": "code",
      "metadata": {
        "id": "H_FS4gj5v5iA",
        "colab_type": "code",
        "colab": {
          "base_uri": "https://localhost:8080/",
          "height": 355
        },
        "outputId": "9ab3dfe3-0036-4b4a-fb2a-31a1f27c997d"
      },
      "source": [
        "_, ax = plt.subplots(1, 1, figsize=(8, 5))\n",
        "ax.scatter(x_to_plot, y_to_plot, s=2, label='noisy sin(x)')\n",
        "ax.plot(x_to_plot, y_predicted_to_plot, c='orange', linewidth=2.5, label='model prediction')\n",
        "ax.set_xlabel('x', fontsize=14, style='italic')\n",
        "ax.legend(loc='best', fontsize=8)"
      ],
      "execution_count": 31,
      "outputs": [
        {
          "output_type": "execute_result",
          "data": {
            "text/plain": [
              "<matplotlib.legend.Legend at 0x7efcbc8ea160>"
            ]
          },
          "metadata": {
            "tags": []
          },
          "execution_count": 31
        },
        {
          "output_type": "display_data",
          "data": {
            "image/png": "[encoded data removed]",
            "text/plain": [
              "<Figure size 576x360 with 1 Axes>"
            ]
          },
          "metadata": {
            "tags": [],
            "needs_background": "light"
          }
        }
      ]
    },
    {
      "cell_type": "markdown",
      "metadata": {
        "id": "NBXw7cmqxJIC",
        "colab_type": "text"
      },
      "source": [
        "Los resultados son realmente bastante buenos. Tenga en cuenta que este tipo de red neuronal generalmente no puede capturar patrones de largo alcance en los datos y tampoco es muy bueno para la generalización, por lo que en el futuro vamos a utilizar una red que consiste en capas convolucionales en lugar de capas clásicas \"lineales\". como hicimos aquí"
      ]
    },
    {
      "cell_type": "markdown",
      "metadata": {
        "id": "8I7oEGe7xOJx",
        "colab_type": "text"
      },
      "source": [
        "\n",
        "Ahora veamos qué tan bueno es nuestro modelo para hacer predicciones para nuevos puntos de datos. Primero, transfiera un modelo a la CPU:"
      ]
    },
    {
      "cell_type": "code",
      "metadata": {
        "id": "qmqio9sUxQYj",
        "colab_type": "code",
        "colab": {
          "base_uri": "https://localhost:8080/",
          "height": 34
        },
        "outputId": "41aee023-ef35-42f9-a1eb-95ecdaf2478c"
      },
      "source": [
        "model = model.cpu()\n",
        "print(\"cambiado a CPU\")"
      ],
      "execution_count": 32,
      "outputs": [
        {
          "output_type": "stream",
          "text": [
            "cambiado a CPU\n"
          ],
          "name": "stdout"
        }
      ]
    },
    {
      "cell_type": "markdown",
      "metadata": {
        "id": "RFg2-HE1xawa",
        "colab_type": "text"
      },
      "source": [
        "Especifique un valor en radianes para el que desea hacer una predicción:"
      ]
    },
    {
      "cell_type": "code",
      "metadata": {
        "id": "A7wqkCN1xe9-",
        "colab_type": "code",
        "colab": {
          "base_uri": "https://localhost:8080/",
          "height": 51
        },
        "outputId": "4842c356-2ab4-4b85-fc2f-ff34f10f935d"
      },
      "source": [
        "new_data_point = 1.575\n",
        "print(\"¿Es este un nuevo punto de datos?\", new_data_point not in x)\n",
        "new_var = torch.Tensor([[new_data_point]])\n",
        "print(\"Predicción del modelo entrenado:\", model(new_var).item())"
      ],
      "execution_count": 34,
      "outputs": [
        {
          "output_type": "stream",
          "text": [
            "¿Es este un nuevo punto de datos? True\n",
            "Predicción del modelo entrenado: 1.0128681659698486\n"
          ],
          "name": "stdout"
        }
      ]
    },
    {
      "cell_type": "markdown",
      "metadata": {
        "id": "bXrooVQ6ymRZ",
        "colab_type": "text"
      },
      "source": [
        "Esto está bastante cerca de un valor real sin (x) para x = 1.575"
      ]
    },
    {
      "cell_type": "markdown",
      "metadata": {
        "id": "kZImKc5EyrcI",
        "colab_type": "text"
      },
      "source": [
        "\n",
        "**Limpieza de imagen \"atómica\" con Pytorch**"
      ]
    }
  ]
}