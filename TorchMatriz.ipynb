{
  "nbformat": 4,
  "nbformat_minor": 0,
  "metadata": {
    "colab": {
      "name": "TorchMatriz.ipynb",
      "provenance": [],
      "authorship_tag": "ABX9TyOrELLXDHBbFKz7pBjQeE5T",
      "include_colab_link": true
    },
    "kernelspec": {
      "name": "python3",
      "display_name": "Python 3"
    }
  },
  "cells": [
    {
      "cell_type": "markdown",
      "metadata": {
        "id": "view-in-github",
        "colab_type": "text"
      },
      "source": [
        "<a href=\"https://colab.research.google.com/github/nicolegg/Torch_Colab/blob/master/TorchMatriz.ipynb\" target=\"_parent\"><img src=\"https://colab.research.google.com/assets/colab-badge.svg\" alt=\"Open In Colab\"/></a>"
      ]
    },
    {
      "cell_type": "markdown",
      "metadata": {
        "id": "F-m95Xt7arPf",
        "colab_type": "text"
      },
      "source": [
        "operaciones matemáticas básicas con PyTorch. PyTorch es un marco computacional para construir modelos de aprendizaje automático profundo. Aquí, sin embargo, usaremos PyTorch para las matemáticas de la escuela secundaria primero, luego para una tarea de regresión simple y finalmente para limpiar una imagen con objetos periodicos \"atómicos\".\n",
        "\n",
        "Importar PyTorch:"
      ]
    },
    {
      "cell_type": "code",
      "metadata": {
        "id": "SSAy8lOIapCO",
        "colab_type": "code",
        "colab": {
          "base_uri": "https://localhost:8080/",
          "height": 34
        },
        "outputId": "20e0e012-94dd-4393-ac31-5b9d9c7ba91c"
      },
      "source": [
        "import torch \n",
        "print (\"importado\")"
      ],
      "execution_count": 2,
      "outputs": [
        {
          "output_type": "stream",
          "text": [
            "importado\n"
          ],
          "name": "stdout"
        }
      ]
    },
    {
      "cell_type": "markdown",
      "metadata": {
        "id": "732pA2KGcW98",
        "colab_type": "text"
      },
      "source": [
        "Definir algunos tensonres"
      ]
    },
    {
      "cell_type": "code",
      "metadata": {
        "id": "NMhUBdV-cZ1o",
        "colab_type": "code",
        "colab": {
          "base_uri": "https://localhost:8080/",
          "height": 34
        },
        "outputId": "68893e08-ce76-43c3-fed5-0b786bfd40fc"
      },
      "source": [
        "# Crear un tensor de 3 x 3 que contenga número aleatorios\n",
        "a = torch.rand(3, 3)\n",
        "# Crear un tensor de 3 x 3 que contenga todos\n",
        "b = torch.ones(3, 3)\n",
        "# Crear un tendos de 3 x 3 de identidad\n",
        "c = torch.eye(3, 3)\n",
        "print (\"Creado\")"
      ],
      "execution_count": 10,
      "outputs": [
        {
          "output_type": "stream",
          "text": [
            "Creado\n"
          ],
          "name": "stdout"
        }
      ]
    },
    {
      "cell_type": "markdown",
      "metadata": {
        "id": "cX5w-rFPdp6C",
        "colab_type": "text"
      },
      "source": [
        "Imprimir los tensores que acabamos de definir"
      ]
    },
    {
      "cell_type": "code",
      "metadata": {
        "id": "T7iBWSnwdwZr",
        "colab_type": "code",
        "colab": {
          "base_uri": "https://localhost:8080/",
          "height": 170
        },
        "outputId": "dd4f751c-43b7-4183-b68e-01d6984fdf31"
      },
      "source": [
        "print(a, type(a))\n",
        "print(b, type(b))\n",
        "print(c, type(c))"
      ],
      "execution_count": 11,
      "outputs": [
        {
          "output_type": "stream",
          "text": [
            "tensor([[0.8640, 0.0281, 0.7036],\n",
            "        [0.8654, 0.4642, 0.3406],\n",
            "        [0.1097, 0.5159, 0.8491]]) <class 'torch.Tensor'>\n",
            "tensor([[1., 1., 1.],\n",
            "        [1., 1., 1.],\n",
            "        [1., 1., 1.]]) <class 'torch.Tensor'>\n",
            "tensor([[1., 0., 0.],\n",
            "        [0., 1., 0.],\n",
            "        [0., 0., 1.]]) <class 'torch.Tensor'>\n"
          ],
          "name": "stdout"
        }
      ]
    },
    {
      "cell_type": "markdown",
      "metadata": {
        "id": "vvlM2rgaebFU",
        "colab_type": "text"
      },
      "source": [
        "Restar o sumar:"
      ]
    },
    {
      "cell_type": "code",
      "metadata": {
        "id": "9xaUrfgXeczT",
        "colab_type": "code",
        "colab": {}
      },
      "source": [
        "d = torch.sub(b, a)\n",
        "e = torch.add(b,c)"
      ],
      "execution_count": 0,
      "outputs": []
    },
    {
      "cell_type": "markdown",
      "metadata": {
        "id": "rwTDkfGefG0N",
        "colab_type": "text"
      },
      "source": [
        "Resultados de la suma y resta entre matrices"
      ]
    },
    {
      "cell_type": "code",
      "metadata": {
        "id": "0wDAb1rffJgk",
        "colab_type": "code",
        "colab": {
          "base_uri": "https://localhost:8080/",
          "height": 119
        },
        "outputId": "0b470822-2e80-47f7-b045-1eba5ed2cc5c"
      },
      "source": [
        "print(d, type(d))\n",
        "print(e, type(e))"
      ],
      "execution_count": 13,
      "outputs": [
        {
          "output_type": "stream",
          "text": [
            "tensor([[0.1360, 0.9719, 0.2964],\n",
            "        [0.1346, 0.5358, 0.6594],\n",
            "        [0.8903, 0.4841, 0.1509]]) <class 'torch.Tensor'>\n",
            "tensor([[2., 1., 1.],\n",
            "        [1., 2., 1.],\n",
            "        [1., 1., 2.]]) <class 'torch.Tensor'>\n"
          ],
          "name": "stdout"
        }
      ]
    }
  ]
}